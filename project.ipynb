{
 "cells": [
  {
   "cell_type": "markdown",
   "metadata": {},
   "source": [
    "# MASTER Classification Project"
   ]
  },
  {
   "cell_type": "markdown",
   "metadata": {},
   "source": [
    "By Ednalyn C. De Dios & Michael P. Moran"
   ]
  },
  {
   "cell_type": "markdown",
   "metadata": {},
   "source": [
    "## Project Planning"
   ]
  },
  {
   "cell_type": "markdown",
   "metadata": {},
   "source": [
    "### Goals\n",
    "1. Explain what is driving customers to churn"
   ]
  },
  {
   "cell_type": "markdown",
   "metadata": {},
   "source": [
    "### Deliverables\n",
    "1. [ ] A report (jupyter notebook) containing analysis of what is driving customer churn\n",
    "1. [ ] A csv with the customer_id, probability of churn, and the prediction of churn (1=churn, 0=not_churn)\n",
    "1. [ ] A single google slide that illustrates how your model works, including the features being used\n",
    "    - Audience: senior leadership team\n",
    "    - How were the values derived?\n",
    "    - How likely is the model\n",
    "        - to give a high probability of churn when churn doesn't occur,\n",
    "        - to give a low probability of churn when churn occurs, and\n",
    "        - to accurately predict churn.\n",
    "1. [ ] A python script that prepares data such that it can be fed into your model\n",
    "1. [ ] A README.md file that contains a link to your google slides presentation, and instructions for how to use your python script(s)"
   ]
  },
  {
   "cell_type": "markdown",
   "metadata": {},
   "source": [
    "**Why are our customers churning?**\n",
    "\n",
    "- Could the month in which they signed up influence churn? i.e. if a cohort is identified by tenure, is there a cohort or cohorts who have a higher rate of churn than other cohorts? (Plot the rate of churn on a line chart where x is the tenure and y is the rate of churn (customers churned/total customers))\n",
    "- Are there features that indicate a higher propensity to churn? like type of internet service, type of phone service, online security and backup, senior citizens, paying more than x% of customers with the same services, etc.?\n",
    "- Is there a price threshold for specific services where the likelihood of churn increases once price for those services goes past that point? If so, what is that point for what service(s)?\n",
    "- If we looked at churn rate for month-to-month customers after the 12th month and that of 1-year contract customers after the 12th month, are those rates comparable?"
   ]
  },
  {
   "cell_type": "markdown",
   "metadata": {},
   "source": [
    "***Deliverables***"
   ]
  },
  {
   "cell_type": "markdown",
   "metadata": {},
   "source": [
    "1. I will also need a report (ipynb) answering the question, \"Why are our customers churning?\" I want to see the analysis you did to answer my questions and lead to your findings. Please clearly call out the questions and answers you are analyzing. E.g. If you find that month-to-month customers churn more, I won't be surprised, but I am not getting rid of that plan. The fact that they churn is not because they can, it's because they can and they are motivated to do so. I want some insight into why they are motivated to do so. I realize you will not be able to do a full causal experiment, but I hope to see some solid evidence of your conclusions.\n",
    "1. I will need you to deliver to me a csv with the customer_id, probability of churn, and the prediction of churn (1=churn, 0=not_churn). I would also like a single goolgle slide that illustrates how your model works, including the features being used, so that I can deliver this to the SLT when they come with questions about how these values were derived. Please make sure you include how likely your model is to give a high probability of churn when churn doesn't occur, to give a low probability of churn when churn occurs, and to accurately predict churn.\n",
    "1. Finally, our development team will need a .py file that will take in a new dataset, (in the exact same form of the one you acquired from telco_churn.customers) and perform all the transformations necessary to run the model you have developed on this new dataset to provide probabilities and predictions.\n",
    "\n"
   ]
  },
  {
   "cell_type": "markdown",
   "metadata": {},
   "source": [
    "### Data Dictionary & Domain Knowledge"
   ]
  },
  {
   "cell_type": "markdown",
   "metadata": {},
   "source": [
    "### Gender\n",
    "\n",
    "| Description | gender\n",
    "| ------------- |:-------------:\n",
    "| Female      | 0\n",
    "| Male      | 1\n",
    "\n",
    "### Phone Service\n",
    "\n",
    "| Phone Service | phone_id\n",
    "| ------------- |:-------------:\n",
    "| No phone      | 0\n",
    "| One Line      | 1\n",
    "| Two+ lines    | 2\n",
    "\n",
    "### Household Type\n",
    "\n",
    "| Partner & Dependents      | household_type_id\n",
    "| -------------             |:-------------:\n",
    "| No partner, no dependents      | 0\n",
    "| Partner, no dependents      | 1\n",
    "| No partner, dependents    | 2\n",
    "| Partner, dependents | 3\n",
    "\n",
    "### Streaming Services\n",
    "\n",
    "| Streaming TV & Streaming Movies      | streaming_services\n",
    "| -------------             |:-------------:\n",
    "| No internet service      | 0\n",
    "| No streaming tv, no streaming movies      | 1\n",
    "| Has streaming tv, no streaming movies    | 2\n",
    "| No streaming tv, has streaming movies | 3\n",
    "| Has streaming tv, has streaming movies | 4\n",
    "\n",
    "### Online Security & Backup\n",
    "\n",
    "| Online Security & Online Backup      | online_security_backup\n",
    "| -------------             |:-------------:\n",
    "| No internet service      | 0\n",
    "| No security, no backup | 1\n",
    "| Has security, no backup | 2\n",
    "| No security, has backup | 3\n",
    "| Has security, has backup | 4\n"
   ]
  },
  {
   "cell_type": "markdown",
   "metadata": {},
   "source": [
    "### Hypotheses"
   ]
  },
  {
   "cell_type": "markdown",
   "metadata": {},
   "source": [
    "### Thoughts & Questions\n",
    "\n",
    "#### Questions\n",
    "1. What is SLT?\n",
    "#### From the boss\n",
    "1. Could the month in which they signed up influence churn? i.e. if a cohort is identified by tenure, is there a cohort or cohorts who have a higher rate of churn than other cohorts? (Plot the rate of churn on a line chart where x is the tenure and y is the rate of churn (customers churned/total customers))\n",
    "1. Are there features that indicate a higher propensity to churn? like type of internet service, type of phone service, online security and backup, senior citizens, paying more than x% of customers with the same services, etc.?\n",
    "1. Is there a price threshold for specific services where the likelihood of churn increases once price for those services goes past that point? If so, what is that point for what service(s)?\n",
    "1. If we looked at churn rate for month-to-month customers after the 12th month and that of 1-year contract customers after the 12th month, are those rates comparable?"
   ]
  },
  {
   "cell_type": "markdown",
   "metadata": {},
   "source": [
    "## Prepare Environment"
   ]
  },
  {
   "cell_type": "code",
   "execution_count": 1,
   "metadata": {},
   "outputs": [],
   "source": [
    "from env import host, user, password\n",
    "\n",
    "import numpy as np\n",
    "import pandas as pd\n",
    "\n",
    "from sqlalchemy import create_engine\n",
    "\n",
    "from sklearn.model_selection import train_test_split\n",
    "from sklearn.preprocessing import LabelEncoder\n",
    "from sklearn.preprocessing import MinMaxScaler"
   ]
  },
  {
   "cell_type": "markdown",
   "metadata": {},
   "source": [
    "## Acquisition"
   ]
  },
  {
   "cell_type": "markdown",
   "metadata": {},
   "source": [
    "### Grab Data"
   ]
  },
  {
   "cell_type": "markdown",
   "metadata": {},
   "source": [
    "1. Use the mysql connector to query telco_churn.customers. Assign the output of that query to the dataframe df. You want to include all the fields."
   ]
  },
  {
   "cell_type": "code",
   "execution_count": 2,
   "metadata": {},
   "outputs": [],
   "source": [
    "def get_db_url(\n",
    "    hostname: str, username: str, password: str, db_name: str\n",
    ") -> str:\n",
    "    \"\"\"\n",
    "    return url for accessing a mysql database\n",
    "    \"\"\"\n",
    "    return f\"mysql+pymysql://{username}:{password}@{hostname}/{db_name}\"\n",
    "\n",
    "\n",
    "def get_sql_conn(hostname: str, username: str, password: str, db_name: str):\n",
    "    \"\"\"\n",
    "    return a mysql connection object\n",
    "    \"\"\"\n",
    "    return create_engine(get_db_url(host, user, password, db_name))\n",
    "\n",
    "\n",
    "def df_from_sql(query: str, url: str) -> pd.DataFrame:\n",
    "    \"\"\"\n",
    "    return a Pandas DataFrame resulting from a sql query\n",
    "    \"\"\"\n",
    "    return pd.read_sql(query, url)\n",
    "\n",
    "\n",
    "def get_telco_data() -> pd.DataFrame:\n",
    "    db = \"telco_churn\"\n",
    "    query = (\"SELECT * \"\n",
    "             f\"FROM customers;\")\n",
    "    url = get_db_url(host, user, password, db)\n",
    "    return df_from_sql(query, url)"
   ]
  },
  {
   "cell_type": "code",
   "execution_count": 3,
   "metadata": {},
   "outputs": [],
   "source": [
    "df = get_telco_data()"
   ]
  },
  {
   "cell_type": "markdown",
   "metadata": {},
   "source": [
    "### Summarize Data"
   ]
  },
  {
   "cell_type": "markdown",
   "metadata": {},
   "source": [
    "2. Write a function, peekatdata(dataframe), that takes a dataframe as input and computes and returns the following:\n",
    "\n",
    "    - creates dataframe object head_df (df of the first 5 rows) and prints contents to screen\n",
    "    - creates dataframe object tail_df (df of the last 5 rows) and prints contents to screen\n",
    "    - creates tuple object shape_tuple (tuple of (nrows, ncols)) and prints tuple to screen\n",
    "    - creates dataframe object describe_df (summary statistics of all numeric variables) and prints contents to screen.\n",
    "    - prints to screen the information about a DataFrame including the index dtype and column dtypes, non-null values and memory usage."
   ]
  },
  {
   "cell_type": "code",
   "execution_count": 4,
   "metadata": {},
   "outputs": [],
   "source": [
    "def peekatdata(dataframe):\n",
    "    head_df = dataframe.head()\n",
    "    print(f\"HEAD\\n{head_df}\", end=\"\\n\\n\")\n",
    "\n",
    "    tail_df = dataframe.tail()\n",
    "    print(f\"TAIL\\n{tail_df}\", end=\"\\n\\n\")\n",
    "\n",
    "    shape_tuple = dataframe.shape\n",
    "    print(f\"SHAPE: {shape_tuple}\", end=\"\\n\\n\")\n",
    "\n",
    "    describe_df = dataframe.describe()\n",
    "    print(f\"DESCRIPTION\\n{describe_df}\", end=\"\\n\\n\")\n",
    "\n",
    "    print(f\"INFORMATION\")\n",
    "    dataframe.info()"
   ]
  },
  {
   "cell_type": "code",
   "execution_count": 5,
   "metadata": {
    "scrolled": false
   },
   "outputs": [
    {
     "name": "stdout",
     "output_type": "stream",
     "text": [
      "HEAD\n",
      "  customer_id  gender  senior_citizen partner dependents  tenure  \\\n",
      "0  0002-ORFBO  Female               0     Yes        Yes       9   \n",
      "1  0003-MKNFE    Male               0      No         No       9   \n",
      "2  0004-TLHLJ    Male               0      No         No       4   \n",
      "3  0011-IGKFF    Male               1     Yes         No      13   \n",
      "4  0013-EXCHZ  Female               1     Yes         No       3   \n",
      "\n",
      "  phone_service multiple_lines  internet_service_type_id online_security  \\\n",
      "0           Yes             No                         1              No   \n",
      "1           Yes            Yes                         1              No   \n",
      "2           Yes             No                         2              No   \n",
      "3           Yes             No                         2              No   \n",
      "4           Yes             No                         2              No   \n",
      "\n",
      "   ...  device_protection tech_support streaming_tv streaming_movies  \\\n",
      "0  ...                 No          Yes          Yes               No   \n",
      "1  ...                 No           No           No              Yes   \n",
      "2  ...                Yes           No           No               No   \n",
      "3  ...                Yes           No          Yes              Yes   \n",
      "4  ...                 No          Yes          Yes               No   \n",
      "\n",
      "  contract_type_id  paperless_billing payment_type_id  monthly_charges  \\\n",
      "0                2                Yes               2             65.6   \n",
      "1                1                 No               2             59.9   \n",
      "2                1                Yes               1             73.9   \n",
      "3                1                Yes               1             98.0   \n",
      "4                1                Yes               2             83.9   \n",
      "\n",
      "   total_charges churn  \n",
      "0          593.3    No  \n",
      "1          542.4    No  \n",
      "2         280.85   Yes  \n",
      "3        1237.85   Yes  \n",
      "4          267.4   Yes  \n",
      "\n",
      "[5 rows x 21 columns]\n",
      "\n",
      "TAIL\n",
      "     customer_id  gender  senior_citizen partner dependents  tenure  \\\n",
      "7038  9987-LUTYD  Female               0      No         No      13   \n",
      "7039  9992-RRAMN    Male               0     Yes         No      22   \n",
      "7040  9992-UJOEL    Male               0      No         No       2   \n",
      "7041  9993-LHIEB    Male               0     Yes        Yes      67   \n",
      "7042  9995-HOTOH    Male               0     Yes        Yes      63   \n",
      "\n",
      "     phone_service    multiple_lines  internet_service_type_id  \\\n",
      "7038           Yes                No                         1   \n",
      "7039           Yes               Yes                         2   \n",
      "7040           Yes                No                         1   \n",
      "7041           Yes                No                         1   \n",
      "7042            No  No phone service                         1   \n",
      "\n",
      "     online_security  ...  device_protection tech_support streaming_tv  \\\n",
      "7038             Yes  ...                 No          Yes           No   \n",
      "7039              No  ...                 No           No           No   \n",
      "7040              No  ...                 No           No           No   \n",
      "7041             Yes  ...                Yes          Yes           No   \n",
      "7042             Yes  ...                Yes           No          Yes   \n",
      "\n",
      "     streaming_movies contract_type_id  paperless_billing payment_type_id  \\\n",
      "7038               No                2                 No               2   \n",
      "7039              Yes                1                Yes               1   \n",
      "7040               No                1                Yes               2   \n",
      "7041              Yes                3                 No               2   \n",
      "7042              Yes                3                 No               1   \n",
      "\n",
      "      monthly_charges  total_charges churn  \n",
      "7038            55.15          742.9    No  \n",
      "7039            85.10         1873.7   Yes  \n",
      "7040            50.30          92.75    No  \n",
      "7041            67.85        4627.65    No  \n",
      "7042            59.00         3707.6    No  \n",
      "\n",
      "[5 rows x 21 columns]\n",
      "\n",
      "SHAPE: (7043, 21)\n",
      "\n",
      "DESCRIPTION\n",
      "       senior_citizen       tenure  internet_service_type_id  \\\n",
      "count     7043.000000  7043.000000               7043.000000   \n",
      "mean         0.162147    32.371149                  1.872923   \n",
      "std          0.368612    24.559481                  0.737796   \n",
      "min          0.000000     0.000000                  1.000000   \n",
      "25%          0.000000     9.000000                  1.000000   \n",
      "50%          0.000000    29.000000                  2.000000   \n",
      "75%          0.000000    55.000000                  2.000000   \n",
      "max          1.000000    72.000000                  3.000000   \n",
      "\n",
      "       contract_type_id  payment_type_id  monthly_charges  \n",
      "count       7043.000000      7043.000000      7043.000000  \n",
      "mean           1.690473         2.315633        64.761692  \n",
      "std            0.833755         1.148907        30.090047  \n",
      "min            1.000000         1.000000        18.250000  \n",
      "25%            1.000000         1.000000        35.500000  \n",
      "50%            1.000000         2.000000        70.350000  \n",
      "75%            2.000000         3.000000        89.850000  \n",
      "max            3.000000         4.000000       118.750000  \n",
      "\n",
      "INFORMATION\n",
      "<class 'pandas.core.frame.DataFrame'>\n",
      "RangeIndex: 7043 entries, 0 to 7042\n",
      "Data columns (total 21 columns):\n",
      "customer_id                 7043 non-null object\n",
      "gender                      7043 non-null object\n",
      "senior_citizen              7043 non-null int64\n",
      "partner                     7043 non-null object\n",
      "dependents                  7043 non-null object\n",
      "tenure                      7043 non-null int64\n",
      "phone_service               7043 non-null object\n",
      "multiple_lines              7043 non-null object\n",
      "internet_service_type_id    7043 non-null int64\n",
      "online_security             7043 non-null object\n",
      "online_backup               7043 non-null object\n",
      "device_protection           7043 non-null object\n",
      "tech_support                7043 non-null object\n",
      "streaming_tv                7043 non-null object\n",
      "streaming_movies            7043 non-null object\n",
      "contract_type_id            7043 non-null int64\n",
      "paperless_billing           7043 non-null object\n",
      "payment_type_id             7043 non-null int64\n",
      "monthly_charges             7043 non-null float64\n",
      "total_charges               7043 non-null object\n",
      "churn                       7043 non-null object\n",
      "dtypes: float64(1), int64(5), object(15)\n",
      "memory usage: 1.1+ MB\n"
     ]
    }
   ],
   "source": [
    "peekatdata(df)"
   ]
  },
  {
   "cell_type": "markdown",
   "metadata": {},
   "source": [
    "## Data Prep"
   ]
  },
  {
   "cell_type": "markdown",
   "metadata": {},
   "source": [
    "### TODO\n",
    "- [ ] multiple_lines has \"No phone service\" for the last row, which is not the same as yes/no that other columns have.\n",
    "- [ ] convert total_charges column to float. it is an object after reading from sql database"
   ]
  },
  {
   "cell_type": "markdown",
   "metadata": {},
   "source": [
    "1. Write a function, df_value_counts(dataframe), that takes a dataframe as input and computes and returns the values by frequency for each variable. Use the rule of thumb for your logic on whether or not to use the bins argument. The function will use a for loop and an in statement."
   ]
  },
  {
   "cell_type": "code",
   "execution_count": 6,
   "metadata": {},
   "outputs": [],
   "source": [
    "def df_value_counts(dataframe):\n",
    "    for col in df.columns:\n",
    "        n = df[col].unique().shape[0]\n",
    "        col_bins = min(n, 10)\n",
    "        print(f\"{col}:\")\n",
    "        if df[col].dtype in ['int64', 'float64'] and n > 10:\n",
    "            print(df[col].value_counts(bins=col_bins, sort=False))\n",
    "        else:\n",
    "            print(df[col].value_counts())\n",
    "        print(\"\\n\")"
   ]
  },
  {
   "cell_type": "code",
   "execution_count": 7,
   "metadata": {
    "scrolled": false
   },
   "outputs": [
    {
     "name": "stdout",
     "output_type": "stream",
     "text": [
      "customer_id:\n",
      "2436-QBZFP    1\n",
      "0924-BJCRC    1\n",
      "4518-FZBSX    1\n",
      "4237-RLAQD    1\n",
      "9359-UGBTK    1\n",
      "3677-TNKIO    1\n",
      "9846-GKXAS    1\n",
      "4844-JJWUY    1\n",
      "9778-OGKQZ    1\n",
      "8901-UPRHR    1\n",
      "4833-QTJNO    1\n",
      "3320-VEOYC    1\n",
      "3253-HKOKL    1\n",
      "4124-MMETB    1\n",
      "1689-MRZQR    1\n",
      "5073-RZGBK    1\n",
      "9526-JAWYF    1\n",
      "5468-BPMMO    1\n",
      "0848-ZGQIJ    1\n",
      "3351-NQLDI    1\n",
      "3733-ZEECP    1\n",
      "6532-YLWSI    1\n",
      "7047-YXDMZ    1\n",
      "6440-DKQGE    1\n",
      "7695-PKLCZ    1\n",
      "9036-CSKBW    1\n",
      "8510-TMWYB    1\n",
      "5312-UXESG    1\n",
      "9237-HQITU    1\n",
      "9342-VNIMQ    1\n",
      "             ..\n",
      "2257-BOVXD    1\n",
      "0725-CXOTM    1\n",
      "3910-MRQOY    1\n",
      "4614-NUVZD    1\n",
      "4291-HYEBC    1\n",
      "8327-LZKAS    1\n",
      "7760-OYPDY    1\n",
      "0392-BZIUW    1\n",
      "3566-CAAYU    1\n",
      "3177-LASXD    1\n",
      "9896-UYMIE    1\n",
      "4541-RMRLG    1\n",
      "7526-IVLYU    1\n",
      "7560-QRBXH    1\n",
      "7148-XZPHA    1\n",
      "3077-RSNTJ    1\n",
      "9099-FTUHS    1\n",
      "5103-MHMHY    1\n",
      "4419-UJMUS    1\n",
      "4396-KLSEH    1\n",
      "7410-KTVFV    1\n",
      "2070-FNEXE    1\n",
      "3900-AQPHZ    1\n",
      "3653-NCRDJ    1\n",
      "9725-SCPZG    1\n",
      "5049-GLYVG    1\n",
      "7120-RFMVS    1\n",
      "6357-JJPQT    1\n",
      "2474-LCNUE    1\n",
      "1074-AMIOH    1\n",
      "Name: customer_id, Length: 7043, dtype: int64\n",
      "\n",
      "\n",
      "gender:\n",
      "Male      3555\n",
      "Female    3488\n",
      "Name: gender, dtype: int64\n",
      "\n",
      "\n",
      "senior_citizen:\n",
      "0    5901\n",
      "1    1142\n",
      "Name: senior_citizen, dtype: int64\n",
      "\n",
      "\n",
      "partner:\n",
      "No     3641\n",
      "Yes    3402\n",
      "Name: partner, dtype: int64\n",
      "\n",
      "\n",
      "dependents:\n",
      "No     4933\n",
      "Yes    2110\n",
      "Name: dependents, dtype: int64\n",
      "\n",
      "\n",
      "tenure:\n",
      "(-0.073, 7.2]    1612\n",
      "(7.2, 14.4]       759\n",
      "(14.4, 21.6]      570\n",
      "(21.6, 28.8]      556\n",
      "(28.8, 36.0]      545\n",
      "(36.0, 43.2]      444\n",
      "(43.2, 50.4]      452\n",
      "(50.4, 57.6]      495\n",
      "(57.6, 64.8]      501\n",
      "(64.8, 72.0]     1109\n",
      "Name: tenure, dtype: int64\n",
      "\n",
      "\n",
      "phone_service:\n",
      "Yes    6361\n",
      "No      682\n",
      "Name: phone_service, dtype: int64\n",
      "\n",
      "\n",
      "multiple_lines:\n",
      "No                  3390\n",
      "Yes                 2971\n",
      "No phone service     682\n",
      "Name: multiple_lines, dtype: int64\n",
      "\n",
      "\n",
      "internet_service_type_id:\n",
      "2    3096\n",
      "1    2421\n",
      "3    1526\n",
      "Name: internet_service_type_id, dtype: int64\n",
      "\n",
      "\n",
      "online_security:\n",
      "No                     3498\n",
      "Yes                    2019\n",
      "No internet service    1526\n",
      "Name: online_security, dtype: int64\n",
      "\n",
      "\n",
      "online_backup:\n",
      "No                     3088\n",
      "Yes                    2429\n",
      "No internet service    1526\n",
      "Name: online_backup, dtype: int64\n",
      "\n",
      "\n",
      "device_protection:\n",
      "No                     3095\n",
      "Yes                    2422\n",
      "No internet service    1526\n",
      "Name: device_protection, dtype: int64\n",
      "\n",
      "\n",
      "tech_support:\n",
      "No                     3473\n",
      "Yes                    2044\n",
      "No internet service    1526\n",
      "Name: tech_support, dtype: int64\n",
      "\n",
      "\n",
      "streaming_tv:\n",
      "No                     2810\n",
      "Yes                    2707\n",
      "No internet service    1526\n",
      "Name: streaming_tv, dtype: int64\n",
      "\n",
      "\n",
      "streaming_movies:\n",
      "No                     2785\n",
      "Yes                    2732\n",
      "No internet service    1526\n",
      "Name: streaming_movies, dtype: int64\n",
      "\n",
      "\n",
      "contract_type_id:\n",
      "1    3875\n",
      "3    1695\n",
      "2    1473\n",
      "Name: contract_type_id, dtype: int64\n",
      "\n",
      "\n",
      "paperless_billing:\n",
      "Yes    4171\n",
      "No     2872\n",
      "Name: paperless_billing, dtype: int64\n",
      "\n",
      "\n",
      "payment_type_id:\n",
      "1    2365\n",
      "2    1612\n",
      "3    1544\n",
      "4    1522\n",
      "Name: payment_type_id, dtype: int64\n",
      "\n",
      "\n",
      "monthly_charges:\n",
      "(18.148999999999997, 28.3]    1606\n",
      "(28.3, 38.35]                  191\n",
      "(38.35, 48.4]                  365\n",
      "(48.4, 58.45]                  640\n",
      "(58.45, 68.5]                  474\n",
      "(68.5, 78.55]                  893\n",
      "(78.55, 88.6]                  953\n",
      "(88.6, 98.65]                  873\n",
      "(98.65, 108.7]                 754\n",
      "(108.7, 118.75]                294\n",
      "Name: monthly_charges, dtype: int64\n",
      "\n",
      "\n",
      "total_charges:\n",
      "           11\n",
      "20.2       11\n",
      "19.75       9\n",
      "20.05       8\n",
      "19.65       8\n",
      "19.9        8\n",
      "45.3        7\n",
      "19.55       7\n",
      "19.45       6\n",
      "20.15       6\n",
      "20.25       6\n",
      "20.45       5\n",
      "20.3        5\n",
      "49.9        4\n",
      "50.15       4\n",
      "19.85       4\n",
      "74.7        4\n",
      "19.4        4\n",
      "44.4        4\n",
      "19.95       4\n",
      "69.9        4\n",
      "44          4\n",
      "69.95       4\n",
      "69.6        4\n",
      "19.3        4\n",
      "70.6        4\n",
      "19.5        4\n",
      "20.5        4\n",
      "20.4        4\n",
      "20.35       4\n",
      "           ..\n",
      "2549.1      1\n",
      "1123.15     1\n",
      "4653.25     1\n",
      "1465.75     1\n",
      "4154.8      1\n",
      "3233.6      1\n",
      "4759.55     1\n",
      "486.05      1\n",
      "195.3       1\n",
      "1403.1      1\n",
      "3807.35     1\n",
      "2424.45     1\n",
      "2459.8      1\n",
      "345.5       1\n",
      "1460.65     1\n",
      "6252.9      1\n",
      "2893.4      1\n",
      "1120.95     1\n",
      "3377.8      1\n",
      "1193.55     1\n",
      "7085.5      1\n",
      "502.6       1\n",
      "738.2       1\n",
      "5347.95     1\n",
      "206.6       1\n",
      "8404.9      1\n",
      "3753.2      1\n",
      "773.2       1\n",
      "1126.75     1\n",
      "2548.55     1\n",
      "Name: total_charges, Length: 6531, dtype: int64\n",
      "\n",
      "\n",
      "churn:\n",
      "No     5174\n",
      "Yes    1869\n",
      "Name: churn, dtype: int64\n",
      "\n",
      "\n"
     ]
    }
   ],
   "source": [
    "df_value_counts(df)"
   ]
  },
  {
   "cell_type": "markdown",
   "metadata": {},
   "source": [
    "- customer_id has no duplicates\n",
    "- gender is about even\n",
    "- customers are mostly not seniors\n",
    "- about equally split along single/partner\n",
    "- most customers do not have dependents\n",
    "- there are many new and many old customers\n",
    "- overwhelming majority have phone service\n",
    "- closely split along multiple_lines\n",
    "- overwhelming majority have internet service\n",
    "    - more have fiber than DSL\n",
    "    - most do not have online_security\n",
    "    - most do not have online_backup\n",
    "    - most do not have device_protection\n",
    "    - most do not have tech_support\n",
    "- billing\n",
    "    - about evenly split along streaming_tv\n",
    "    - about evenly splot along streaming_movies\n",
    "    - most customers are month-to-month\n",
    "    - most customers are paperless billing\n",
    "    - most customers pay by some form of check\n",
    "    - many customers pay less than $30\n",
    "    - most are pay between 45 and 110 per month\n",
    "- most have not churned\n",
    "    - about 1900 have\n",
    "    "
   ]
  },
  {
   "cell_type": "markdown",
   "metadata": {},
   "source": [
    "### Handle Missing Values"
   ]
  },
  {
   "cell_type": "markdown",
   "metadata": {},
   "source": [
    "2. Missing Values:\n",
    "\n",
    "    - Write a function, that returns a dataframe of the column name and the number of missing values and the percentage of missing values (missing records/total records) for each of the columns that have > 0 missing values.\n",
    "\n",
    "   - Document your takeaways. For each variable:\n",
    "\n",
    "        - should you remove the observations with a missing value for that variable?\n",
    "        - should you remove the variable altogether?\n",
    "        - is missing equivalent to 0 (or some other constant value) in the specific case of this variable?\n",
    "        - should you replace the missing values with a value it is most likely to represent (e.g. Are the missing values a result of data integrity issues and should be replaced by the most likely value?)\n",
    "        - Handle the missing values in the way you recommended above."
   ]
  },
  {
   "cell_type": "code",
   "execution_count": 8,
   "metadata": {},
   "outputs": [],
   "source": [
    "def df_missing_vals(dataframe):\n",
    "    null_count = dataframe.isnull().sum()\n",
    "    null_percentage = (null_count / dataframe.shape[0]) * 100\n",
    "    empty_count = pd.Series(((dataframe == \" \") | (dataframe == \"\")).sum())\n",
    "    return pd.DataFrame({\"nmissing\": null_count, \"percentage\": null_percentage, \"nempty\": empty_count})\n",
    "\n",
    "# test \n",
    "# print(df_missing_vals(pd.DataFrame({\"col1\": [np.nan, 1, \"\", np.nan, np.nan], \"col2\": [2, \"\", 4, np.nan, 4]})))"
   ]
  },
  {
   "cell_type": "code",
   "execution_count": 9,
   "metadata": {},
   "outputs": [
    {
     "name": "stdout",
     "output_type": "stream",
     "text": [
      "                          nmissing  percentage  nempty\n",
      "customer_id                      0         0.0       0\n",
      "gender                           0         0.0       0\n",
      "senior_citizen                   0         0.0       0\n",
      "partner                          0         0.0       0\n",
      "dependents                       0         0.0       0\n",
      "tenure                           0         0.0       0\n",
      "phone_service                    0         0.0       0\n",
      "multiple_lines                   0         0.0       0\n",
      "internet_service_type_id         0         0.0       0\n",
      "online_security                  0         0.0       0\n",
      "online_backup                    0         0.0       0\n",
      "device_protection                0         0.0       0\n",
      "tech_support                     0         0.0       0\n",
      "streaming_tv                     0         0.0       0\n",
      "streaming_movies                 0         0.0       0\n",
      "contract_type_id                 0         0.0       0\n",
      "paperless_billing                0         0.0       0\n",
      "payment_type_id                  0         0.0       0\n",
      "monthly_charges                  0         0.0       0\n",
      "total_charges                    0         0.0      11\n",
      "churn                            0         0.0       0\n"
     ]
    }
   ],
   "source": [
    "print(df_missing_vals(df))"
   ]
  },
  {
   "cell_type": "markdown",
   "metadata": {},
   "source": [
    "- Document your takeaways. For each variable:\n",
    "    - Me: No columns have NaNs\n",
    "    - Me: total_charges has 11 observations with a \" \" or \"\" value\n",
    "        - [x] let's replace the 11 with their monthly_charges * tenure\n",
    "        - Dd: the total_charges with \" \" all had tenure of 0 so they were essentially replaced with zeroes\n",
    "    - should you remove the observations with a missing value for that variable?\n",
    "    - should you remove the variable altogether?\n",
    "    - is missing equivalent to 0 (or some other constant value) in the specific case of this variable?\n",
    "    - should you replace the missing values with a value it is most likely to represent (e.g. Are the missing values a result of data integrity issues and should be replaced by the most likely value?)\n",
    "\n",
    "Handle the missing values in the way you recommended above."
   ]
  },
  {
   "cell_type": "code",
   "execution_count": 10,
   "metadata": {},
   "outputs": [],
   "source": [
    "df['total_charges'] = np.where(df['total_charges'] == ' ', (df.monthly_charges * df.tenure), df['total_charges'])"
   ]
  },
  {
   "cell_type": "markdown",
   "metadata": {},
   "source": [
    "3. Transform churn such that \"yes\" = 1 and \"no\" = 0"
   ]
  },
  {
   "cell_type": "code",
   "execution_count": 11,
   "metadata": {},
   "outputs": [],
   "source": [
    "df['churn'] = df['churn'].map( {'No': 0, 'Yes': 1} ).astype(int)"
   ]
  },
  {
   "cell_type": "markdown",
   "metadata": {},
   "source": [
    "4. Compute a new feature, tenure_year, that is a result of translating tenure from months to years."
   ]
  },
  {
   "cell_type": "code",
   "execution_count": 12,
   "metadata": {},
   "outputs": [],
   "source": [
    "df['tenure_year'] = df.tenure / 12"
   ]
  },
  {
   "cell_type": "markdown",
   "metadata": {},
   "source": [
    "5. Figure out a way to capture the information contained in phone_service and multiple_lines into a single variable of dtype int. Write a function that will transform the data and place in a new column phone_id in df_sql. Be sure you have documented your function and logic well."
   ]
  },
  {
   "cell_type": "code",
   "execution_count": 13,
   "metadata": {},
   "outputs": [],
   "source": [
    "def add_phone_id(df):\n",
    "    \"\"\"\n",
    "    return DataFrame with new column phone_id where customers without phone_service get a 0, customers with one line get 1,\n",
    "    and customers with multiple lines get 2\n",
    "    \"\"\"\n",
    "    df_temp = df.copy()\n",
    "    df_temp['phone_id'] = np.where(df['phone_service'] == 'No', 0, 9)\n",
    "    df_temp['phone_id'] = np.where((df['phone_service'] == 'Yes') & (df['multiple_lines'] == 'No'), 1, df_temp['phone_id'])\n",
    "    df_temp['phone_id'] = np.where((df['phone_service'] == 'Yes') & (df['multiple_lines'] == 'Yes'), 2, df_temp['phone_id'])\n",
    "    return df_temp\n",
    "\n",
    "df_sql = add_phone_id(df)"
   ]
  },
  {
   "cell_type": "markdown",
   "metadata": {},
   "source": [
    "6. Figure out a way to capture the information contained in dependents and partner into a single variable of dtype int. Transform the data and place in a new column household_type_id in df_sql. Be sure you have documented your function and logic well."
   ]
  },
  {
   "cell_type": "code",
   "execution_count": 14,
   "metadata": {},
   "outputs": [],
   "source": [
    "def add_household_type(df):\n",
    "    \"\"\"\n",
    "    return DataFrame with new column household_type_id that combines the partner and dependents columns\n",
    "    # 0 = no partner, no dependents\n",
    "    # 1 = has partner, no dependents\n",
    "    # 2 = no partner, has dependents\n",
    "    # 3 = has partner, has dependents\n",
    "    \"\"\"\n",
    "    df_temp = df.copy()\n",
    "    df_temp['household_type_id'] = np.where((df['partner'] == 'No') & (df['dependents'] == 'No'), 0, 9)\n",
    "    df_temp['household_type_id'] = np.where((df['partner'] == 'Yes') & (df['dependents'] == 'No'), 1, df_temp['household_type_id'])\n",
    "    df_temp['household_type_id'] = np.where((df['partner'] == 'No') & (df['dependents'] == 'Yes'), 2, df_temp['household_type_id'])\n",
    "    df_temp['household_type_id'] = np.where((df['partner'] == 'Yes') & (df['dependents'] == 'Yes'), 3, df_temp['household_type_id'])\n",
    "    return df_temp\n",
    "\n",
    "df_sql = add_household_type(df)"
   ]
  },
  {
   "cell_type": "markdown",
   "metadata": {},
   "source": [
    "7. Figure out a way to capture the information contained in streaming_tv and streaming_movies into a single variable of dtype int. Transform the data and place in a new column streaming_services in df_sql. Be sure you have documented your function and logic well."
   ]
  },
  {
   "cell_type": "code",
   "execution_count": 15,
   "metadata": {},
   "outputs": [],
   "source": [
    "\n",
    "def add_streaming_services(df):\n",
    "    \"\"\"\n",
    "    return DataFrame with a new column streaming_services that combines streaming_tv and streaming_movies columns as follows:\n",
    "    # 0 = no internet service\n",
    "    # 1 = no streaming_tv, no streaming_movies\n",
    "    # 2 = has streaming_tv, no streaming_movies\n",
    "    # 3 = no streaming_tv, has streaming_movies\n",
    "    # 4 = has streaming_tv, has streaming_movies\n",
    "    \"\"\"\n",
    "    df_temp = df.copy()\n",
    "    df_temp.loc[(df_temp.streaming_tv == \"No internet service\") & (df_temp.streaming_movies == 'No internet service'), \"streaming_services\"] = int(0)\n",
    "    df_temp.loc[(df_temp.streaming_tv == \"No\") & (df_temp.streaming_movies == 'No'), \"streaming_services\"] = int(1)\n",
    "    df_temp.loc[(df_temp.streaming_tv == \"Yes\") & (df_temp.streaming_movies == 'No'), \"streaming_services\"] = int(2)\n",
    "    df_temp.loc[(df_temp.streaming_tv == \"No\") & (df_temp.streaming_movies == 'Yes'), \"streaming_services\"] = int(3)\n",
    "    df_temp.loc[(df_temp.streaming_tv == \"Yes\") & (df_temp.streaming_movies == 'Yes'), \"streaming_services\"] = int(4)\n",
    "    df_temp = df_temp.astype({\"streaming_services\": int})\n",
    "    \n",
    "    return df_temp\n",
    "\n",
    "df_sql = add_streaming_services(df_sql)"
   ]
  },
  {
   "cell_type": "markdown",
   "metadata": {},
   "source": [
    "8. Figure out a way to capture the information contained in online_security and online_backup into a single variable of dtype int. Transform the data and place in a new column online_security_backup in df_sql. Be sure you have documented your function and logic well."
   ]
  },
  {
   "cell_type": "code",
   "execution_count": 20,
   "metadata": {},
   "outputs": [
    {
     "name": "stdout",
     "output_type": "stream",
     "text": [
      "int64\n"
     ]
    },
    {
     "data": {
      "text/html": [
       "<div>\n",
       "<style scoped>\n",
       "    .dataframe tbody tr th:only-of-type {\n",
       "        vertical-align: middle;\n",
       "    }\n",
       "\n",
       "    .dataframe tbody tr th {\n",
       "        vertical-align: top;\n",
       "    }\n",
       "\n",
       "    .dataframe thead th {\n",
       "        text-align: right;\n",
       "    }\n",
       "</style>\n",
       "<table border=\"1\" class=\"dataframe\">\n",
       "  <thead>\n",
       "    <tr style=\"text-align: right;\">\n",
       "      <th></th>\n",
       "      <th>online_security</th>\n",
       "      <th>online_backup</th>\n",
       "      <th>online_security_backup</th>\n",
       "    </tr>\n",
       "  </thead>\n",
       "  <tbody>\n",
       "    <tr>\n",
       "      <th>7033</th>\n",
       "      <td>No internet service</td>\n",
       "      <td>No internet service</td>\n",
       "      <td>0</td>\n",
       "    </tr>\n",
       "    <tr>\n",
       "      <th>7034</th>\n",
       "      <td>No</td>\n",
       "      <td>Yes</td>\n",
       "      <td>3</td>\n",
       "    </tr>\n",
       "    <tr>\n",
       "      <th>7035</th>\n",
       "      <td>No</td>\n",
       "      <td>Yes</td>\n",
       "      <td>3</td>\n",
       "    </tr>\n",
       "    <tr>\n",
       "      <th>7036</th>\n",
       "      <td>No</td>\n",
       "      <td>No</td>\n",
       "      <td>1</td>\n",
       "    </tr>\n",
       "    <tr>\n",
       "      <th>7037</th>\n",
       "      <td>No internet service</td>\n",
       "      <td>No internet service</td>\n",
       "      <td>0</td>\n",
       "    </tr>\n",
       "    <tr>\n",
       "      <th>7038</th>\n",
       "      <td>Yes</td>\n",
       "      <td>No</td>\n",
       "      <td>2</td>\n",
       "    </tr>\n",
       "    <tr>\n",
       "      <th>7039</th>\n",
       "      <td>No</td>\n",
       "      <td>No</td>\n",
       "      <td>1</td>\n",
       "    </tr>\n",
       "    <tr>\n",
       "      <th>7040</th>\n",
       "      <td>No</td>\n",
       "      <td>Yes</td>\n",
       "      <td>3</td>\n",
       "    </tr>\n",
       "    <tr>\n",
       "      <th>7041</th>\n",
       "      <td>Yes</td>\n",
       "      <td>No</td>\n",
       "      <td>2</td>\n",
       "    </tr>\n",
       "    <tr>\n",
       "      <th>7042</th>\n",
       "      <td>Yes</td>\n",
       "      <td>Yes</td>\n",
       "      <td>4</td>\n",
       "    </tr>\n",
       "  </tbody>\n",
       "</table>\n",
       "</div>"
      ],
      "text/plain": [
       "          online_security        online_backup  online_security_backup\n",
       "7033  No internet service  No internet service                       0\n",
       "7034                   No                  Yes                       3\n",
       "7035                   No                  Yes                       3\n",
       "7036                   No                   No                       1\n",
       "7037  No internet service  No internet service                       0\n",
       "7038                  Yes                   No                       2\n",
       "7039                   No                   No                       1\n",
       "7040                   No                  Yes                       3\n",
       "7041                  Yes                   No                       2\n",
       "7042                  Yes                  Yes                       4"
      ]
     },
     "execution_count": 20,
     "metadata": {},
     "output_type": "execute_result"
    }
   ],
   "source": [
    "def add_online_security_backup(df):\n",
    "    \"\"\"\n",
    "    # 0 = no internet service\n",
    "    # 1 = no online_security, no online_backup\n",
    "    # 2 = has online_security, no online_backup\n",
    "    # 3 = no online_security, has online_backup\n",
    "    # 4 = has online_security, has online_backup\n",
    "    \"\"\"\n",
    "    df_temp = df.copy()\n",
    "    df_temp.loc[(df_temp.online_security == \"No internet service\") & (df_temp.online_backup == \"No internet service\"), \"online_security_backup\"] = 0\n",
    "    df_temp.loc[(df_temp.online_security == \"No\") & (df_temp.online_backup == \"No\"), \"online_security_backup\"] = 1\n",
    "    df_temp.loc[(df_temp.online_security == \"Yes\") & (df_temp.online_backup == \"No\"), \"online_security_backup\"] = 2\n",
    "    df_temp.loc[(df_temp.online_security == \"No\") & (df_temp.online_backup == \"Yes\"), \"online_security_backup\"] = 3\n",
    "    df_temp.loc[(df_temp.online_security == \"Yes\") & (df_temp.online_backup == \"Yes\"), \"online_security_backup\"] = 4\n",
    "    df_temp = df_temp.astype({\"online_security_backup\": int})\n",
    "    \n",
    "    return df_temp\n",
    "\n",
    "df_sql = add_online_security_backup(df_sql)"
   ]
  },
  {
   "cell_type": "markdown",
   "metadata": {},
   "source": [
    "9. Data Split\n",
    "\n",
    "    - Split data into train (70%) & test (30%) samples. You should end with 2 data frames: train_df and test_df"
   ]
  },
  {
   "cell_type": "code",
   "execution_count": 17,
   "metadata": {},
   "outputs": [],
   "source": [
    "# X = df_sql[['gender', 'senior_citizen', 'internet_service_type_id', 'device_protection', 'tech_support', 'contract_type_id', 'paperless_billing', 'payment_type_id', 'monthly_charges', 'total_charges', 'tenure_year', 'phone_id', 'household_type', 'streaming_services', 'online_security_backup']]\n",
    "# y = df_sql[['churn']]\n",
    "\n",
    "# X_train, X_test, y_train, y_test = train_test_split(X, y, test_size = .30, random_state = 123)\n",
    "\n",
    "# X_train.head()"
   ]
  },
  {
   "cell_type": "markdown",
   "metadata": {},
   "source": [
    "10. Variable Encoding\n",
    "\n",
    "    - Write an encoder (fit and transform on train_df) for each non-numeric variable. Use that encoder object to transform on test_df"
   ]
  },
  {
   "cell_type": "code",
   "execution_count": 18,
   "metadata": {},
   "outputs": [],
   "source": [
    "# encoder = LabelEncoder()\n",
    "\n",
    "# print(df_sql.gender.value_counts(dropna=False))\n",
    "# print(df_sql.device_protection.value_counts(dropna=False))\n",
    "# print(df_sql.tech_support.value_counts(dropna=False))\n",
    "# print(df_sql.paperless_billing.value_counts(dropna=False))\n",
    "\n",
    "# encoder.fit(df_sql.gender)\n",
    "# df_sql.gender = encoder.transform(df_sql.gender)\n",
    "# print(df_sql.gender.head(10))\n",
    "\n",
    "# encoder.fit(df_sql.device_protection)\n",
    "# df_sql.device_protection = encoder.transform(df_sql.device_protection)\n",
    "# print(df_sql.device_protection.head(10))\n",
    "\n",
    "# encoder.fit(df_sql.tech_support)\n",
    "# df_sql.tech_support = encoder.transform(df_sql.tech_support)\n",
    "# print(df_sql.tech_support.head(10))\n",
    "\n",
    "# encoder.fit(df_sql.paperless_billing)\n",
    "# df_sql.paperless_billing = encoder.transform(df_sql.paperless_billing)\n",
    "# print(df_sql.paperless_billing.head(10))"
   ]
  },
  {
   "cell_type": "markdown",
   "metadata": {},
   "source": [
    "11. Numeric Scaling\n",
    "\n",
    "    - Fit a min_max_scaler to train_df. Transform monthly_charges and total_charges variables in train_df using the scaler. Then use the scaler object to transform test_df."
   ]
  },
  {
   "cell_type": "markdown",
   "metadata": {},
   "source": [
    "## Data Exploration\n",
    "\n",
    "### Deliverable\n",
    "\n",
    "*I will also need a report (ipynb) answering the question, \"Why are our customers churning?\" I want to see the analysis you did to answer my questions and lead to your findings. Please clearly call out the questions and answers you are analyzing. E.g. If you find that month-to-month customers churn more, I won't be surprised, but I am not getting rid of that plan. The fact that they churn is not because they can, it's because they can and they are motivated to do so. I want some insight into why they are motivated to do so. I realize you will not be able to do a full causal experiment, but I hope to see some solid evidence of your conclusions.*\n",
    "\n",
    "1. Could the month in which they signed up influence churn? i.e. if a cohort is identified by tenure, is there a cohort or cohorts who have a higher rate of churn than other cohorts? (Plot the rate of churn on a line chart where x is the tenure and y is the rate of churn (customers churned/total customers))\n",
    "\n",
    "2. Are there features that indicate a higher propensity to churn? like type of internet service, type of phone service, online security and backup, senior citizens, paying more than x% of customers with the same services, etc.?\n",
    "\n",
    "3. Is there a price threshold for specific services where the likelihood of churn increases once price for those services goes past that point? If so, what is that point for what service(s)?\n",
    "\n",
    "4. If we looked at churn rate for month-to-month customers after the 12th month and that of 1-year contract customers after the 12th month, are those rates comparable?\n",
    "\n",
    "5. Controlling for services (phone_id, internet_service_type_id, online_security_backup, device_protection, tech_support, and contract_type_id), is the mean monthly_charges of those who have churned significantly different from that of those who have not churned?\n",
    "\n",
    "6. How much of monthly_charges can be explained by internet_service_type? (hint: correlation test). State your hypotheses and your conclusion clearly.\n",
    "\n",
    "7. How much of monthly_charges can be explained by internet_service_type + phone service type (0, 1, or multiple lines). State your hypotheses and your conclusion clearly.\n",
    "\n",
    "8. Create visualizations exploring the interactions of variables (independent with independent and independent with dependent). The goal is to identify features that are related to churn, identify any data integrity issues, understand 'how the data works', e.g. we may find that all who have online services also have device protection. In that case, we don't need both of those. (The visualizations done in your analysis for questions 1-5 count towards the requirements below)\n",
    "\n",
    "    - Each independent variable (except for customer_id) must be visualized in at least two plots, and at least 1 of those compares the independent variable with the dependent variable.\n",
    "\n",
    "    - For each plot where x and y are independent variables, add a third dimension (where possible), of churn represented by color.\n",
    "\n",
    "    - Use subplots when plotting the same type of chart but with different variables.\n",
    "\n",
    "    - Adjust the axes as necessary to extract information from the visualizations (adjusting the x & y limits, setting the scale where needed, etc.)\n",
    "\n",
    "    - Add annotations to at least 5 plots with a key takeaway from that plot.\n",
    "\n",
    "    - Use plots from matplotlib, pandas and seaborn.\n",
    "\n",
    "    - Use each of the following:\n",
    "\n",
    "        - sns.heatmap\n",
    "        - pd.crosstab (with color)\n",
    "        - pd.scatter_matrix\n",
    "        - sns.barplot\n",
    "        - sns.swarmplot\n",
    "        - sns.pairplot\n",
    "        - sns.jointplot\n",
    "        - sns.relplot or plt.scatter\n",
    "        - sns.distplot or plt.hist\n",
    "        - sns.boxplot\n",
    "        - plt.plot\n",
    "        \n",
    "    - Use at least one more type of plot that is not included in the list above.\n",
    "    \n",
    "\n",
    "9. What can you say about each variable's relationship to churn, based on your initial exploration? If there appears to be some sort of interaction or correlation, assume there is no causal relationship and brainstorm (and document) ideas on reasons there could be correlation.\n",
    "\n",
    "    - phone_id\n",
    "    - internet_service_type_id\n",
    "    - online_security_backup\n",
    "    - device_protection\n",
    "    - tech_support\n",
    "    - contract_type_id\n",
    "    - senior_citizen\n",
    "    - tenure\n",
    "    - tenure_year\n",
    "    - monthly_charges\n",
    "    - total_charges\n",
    "    - payment_type_id\n",
    "    - paperless_billing\n",
    "    - contract_type_id\n",
    "    - gender\n",
    "    \n",
    "   \n",
    "10. Summarize your conclusions, provide clear answers to the specific questions, and summarize any takeaways/action plan from the work above."
   ]
  },
  {
   "cell_type": "markdown",
   "metadata": {},
   "source": [
    "## Modeling\n",
    "\n",
    "1. Feature Selection: Are there any variables that seem to provide limited to no additional information? If so, remove those and assign the new limited dataframe to train_reduced"
   ]
  },
  {
   "cell_type": "markdown",
   "metadata": {},
   "source": [
    "2. Train (fit, transform, evaluate) a logistic regression model varying your meta-parameters."
   ]
  },
  {
   "cell_type": "markdown",
   "metadata": {},
   "source": [
    "3. Compare evaluation metrics across all the models, and select the best performing model."
   ]
  },
  {
   "cell_type": "markdown",
   "metadata": {},
   "source": [
    "4. Test the final model (transform, evaluate) on your out-of-sample data (test_df). Summarize the performance. Interpret your results."
   ]
  },
  {
   "cell_type": "markdown",
   "metadata": {},
   "source": [
    "# Delivery\n",
    "\n",
    "1. I will need you to deliver to me a csv with the customer_id, probability of churn, and the prediction of churn (1=churn, 0=not_churn). I would also like a single google slide that illustrates how your model works, including the features being used, so that I can deliver this to the SLT when they come with questions about how these values were derived. Please make sure you include how likely your model is to give a high probability of churn when churn doesn't occur, to give a low probability of churn when churn occurs, and to accurately predict churn.\n",
    "\n",
    "1. Finally, our development team will need a .py file that will take in a new dataset, (in the exact same form of the one you acquired from telco_churn.customers) and perform all the transformations necessary to run the model you have developed on this new dataset to provide probabilities and predictions."
   ]
  },
  {
   "cell_type": "code",
   "execution_count": null,
   "metadata": {},
   "outputs": [],
   "source": []
  }
 ],
 "metadata": {
  "kernelspec": {
   "display_name": "Python 3",
   "language": "python",
   "name": "python3"
  },
  "language_info": {
   "codemirror_mode": {
    "name": "ipython",
    "version": 3
   },
   "file_extension": ".py",
   "mimetype": "text/x-python",
   "name": "python",
   "nbconvert_exporter": "python",
   "pygments_lexer": "ipython3",
   "version": "3.7.1"
  }
 },
 "nbformat": 4,
 "nbformat_minor": 2
}
