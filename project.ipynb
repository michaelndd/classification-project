{
 "cells": [
  {
   "cell_type": "markdown",
   "metadata": {},
   "source": [
    "# MASTER Classification Project"
   ]
  },
  {
   "cell_type": "markdown",
   "metadata": {},
   "source": [
    "By Ednalyn C. De Dios & Michael P. Moran"
   ]
  },
  {
   "cell_type": "markdown",
   "metadata": {},
   "source": [
    "## Project Planning"
   ]
  },
  {
   "cell_type": "markdown",
   "metadata": {},
   "source": [
    "### Goals\n",
    "1. Explain what is driving customers to churn."
   ]
  },
  {
   "cell_type": "markdown",
   "metadata": {},
   "source": [
    "### Questions Presented & Answers\n",
    "1. Could the month in which they signed up influence churn? i.e. if a cohort is identified by tenure, is there a cohort or cohorts who have a higher rate of churn than other cohorts? (Plot the rate of churn on a line chart where x is the tenure and y is the rate of churn (customers churned/total customers))\n",
    "1. Are there features that indicate a higher propensity to churn? like type of internet service, type of phone service, online security and backup, senior citizens, paying more than x% of customers with the same services, etc.?\n",
    "1. Is there a price threshold for specific services where the likelihood of churn increases once price for those services goes past that point? If so, what is that point for what service(s)?\n",
    "1. If we looked at churn rate for month-to-month customers after the 12th month and that of 1-year contract customers after the 12th month, are those rates comparable?"
   ]
  },
  {
   "cell_type": "markdown",
   "metadata": {},
   "source": [
    "### Data Dictionary & Domain Knowledge"
   ]
  },
  {
   "cell_type": "markdown",
   "metadata": {},
   "source": [
    "### gender\n",
    "\n",
    "| Description | gender\n",
    "| ------------- |-------------\n",
    "| Female      | 0\n",
    "| Male      | 1\n",
    "\n",
    "### phone_id\n",
    "\n",
    "| Phone Service | phone_id\n",
    "| ------------- |-------------\n",
    "| No phone      | 0\n",
    "| One Line      | 1\n",
    "| Two+ lines    | 2\n",
    "\n",
    "### household_type_id\n",
    "\n",
    "| Partner & Dependents      | household_type_id\n",
    "| -------------             |-------------\n",
    "| No partner, no dependents      | 0\n",
    "| Partner, no dependents      | 1\n",
    "| No partner, dependents    | 2\n",
    "| Partner, dependents | 3\n",
    "\n",
    "### streaming_services\n",
    "\n",
    "| Streaming TV & Streaming Movies      | streaming_services\n",
    "| -------------             |-------------\n",
    "| No internet service      | 0\n",
    "| No streaming tv, no streaming movies      | 1\n",
    "| Has streaming tv, no streaming movies    | 2\n",
    "| No streaming tv, has streaming movies | 3\n",
    "| Has streaming tv, has streaming movies | 4\n",
    "\n",
    "### online_security_backup\n",
    "\n",
    "| Online Security & Online Backup      | online_security_backup\n",
    "| -------------             |-------------\n",
    "| No internet service      | 0\n",
    "| No security, no backup | 1\n",
    "| Has security, no backup | 2\n",
    "| No security, has backup | 3\n",
    "| Has security, has backup | 4\n",
    "\n",
    "### device_protection\n",
    "| Device Protection | Value\n",
    "| ------ |-----\n",
    "| No internet service | 1\n",
    "| No | 0\n",
    "| Yes | 2\n",
    "\n",
    "### tech_support\n",
    "| Tech Support | Value\n",
    "| ------ |-----\n",
    "| No internet service | 1\n",
    "| No | 0\n",
    "| Yes | 2\n",
    "\n",
    "### paperless_billing\n",
    "| Paperless Billing | Value\n",
    "| ------ |-----\n",
    "| No | 0\n",
    "| Yes | 1\n",
    "\n",
    "### internet_service_type\n",
    "| internet_service_type_id | internet_service_type |\n",
    "| ------ |-----|\n",
    "|                        0 | None                  |\n",
    "|                        1 | DSL                   |\n",
    "|                        2 | Fiber optic           |\n",
    "\n",
    "\n",
    "### payment types\n",
    "| payment_type_id | payment_type              |\n",
    "| ------ |-----\n",
    "|               1 | Electronic check          |\n",
    "|               2 | Mailed check              |\n",
    "|               3 | Bank transfer (automatic) |\n",
    "|               4 | Credit card (automatic)   |\n",
    "\n",
    "\n",
    "### contract_type_id\n",
    "| contract_type_id | contract_type  |\n",
    "| ------ |-----\n",
    "|                1 | Month-to-month |\n",
    "|                2 | One year       |\n",
    "|                3 | Two year       |"
   ]
  },
  {
   "cell_type": "markdown",
   "metadata": {},
   "source": [
    "### Hypotheses"
   ]
  },
  {
   "cell_type": "markdown",
   "metadata": {},
   "source": [
    "## Prepare Environment"
   ]
  },
  {
   "cell_type": "code",
   "execution_count": null,
   "metadata": {},
   "outputs": [],
   "source": [
    "from env import host, user, password\n",
    "import adalib\n",
    "\n",
    "import numpy as np\n",
    "import pandas as pd\n",
    "\n",
    "from sqlalchemy import create_engine\n",
    "\n",
    "import scipy.stats as stats\n",
    "    \n",
    "from sklearn.model_selection import train_test_split\n",
    "from sklearn.preprocessing import LabelEncoder\n",
    "from sklearn.preprocessing import MinMaxScaler\n",
    "\n",
    "from sklearn.linear_model import LogisticRegression\n",
    "from sklearn.metrics import classification_report\n",
    "from sklearn.metrics import confusion_matrix\n",
    "from sklearn.metrics import recall_score\n",
    "\n",
    "%matplotlib inline\n",
    "import matplotlib.pyplot as plt\n",
    "import seaborn as sns\n",
    "\n",
    "from pandas.tools.plotting import scatter_matrix\n",
    "from matplotlib import cm\n",
    "from matplotlib.ticker import FormatStrFormatter"
   ]
  },
  {
   "cell_type": "markdown",
   "metadata": {},
   "source": [
    "## Acquisition"
   ]
  },
  {
   "cell_type": "markdown",
   "metadata": {},
   "source": [
    "### Grab Data"
   ]
  },
  {
   "cell_type": "code",
   "execution_count": null,
   "metadata": {},
   "outputs": [],
   "source": [
    "def get_db_url(\n",
    "    hostname: str, username: str, password: str, db_name: str\n",
    ") -> str:\n",
    "    \"\"\"\n",
    "    return url for accessing a mysql database\n",
    "    \"\"\"\n",
    "    return f\"mysql+pymysql://{username}:{password}@{hostname}/{db_name}\"\n",
    "\n",
    "\n",
    "def get_sql_conn(hostname: str, username: str, password: str, db_name: str):\n",
    "    \"\"\"\n",
    "    return a mysql connection object\n",
    "    \"\"\"\n",
    "    return create_engine(get_db_url(host, user, password, db_name))\n",
    "\n",
    "\n",
    "def df_from_sql(query: str, url: str) -> pd.DataFrame:\n",
    "    \"\"\"\n",
    "    return a Pandas DataFrame resulting from a sql query\n",
    "    \"\"\"\n",
    "    return pd.read_sql(query, url)\n",
    "\n",
    "\n",
    "def get_telco_data() -> pd.DataFrame:\n",
    "    db = \"telco_churn\"\n",
    "    query = (\"SELECT * \"\n",
    "             f\"FROM customers;\")\n",
    "    url = get_db_url(host, user, password, db)\n",
    "    return df_from_sql(query, url)"
   ]
  },
  {
   "cell_type": "code",
   "execution_count": null,
   "metadata": {},
   "outputs": [],
   "source": [
    "df = get_telco_data()"
   ]
  },
  {
   "cell_type": "markdown",
   "metadata": {},
   "source": [
    "### Summarize Data"
   ]
  },
  {
   "cell_type": "code",
   "execution_count": null,
   "metadata": {},
   "outputs": [],
   "source": [
    "def peekatdata(dataframe):\n",
    "    head_df = dataframe.head()\n",
    "    print(f\"HEAD\\n{head_df}\", end=\"\\n\\n\")\n",
    "\n",
    "    tail_df = dataframe.tail()\n",
    "    print(f\"TAIL\\n{tail_df}\", end=\"\\n\\n\")\n",
    "\n",
    "    shape_tuple = dataframe.shape\n",
    "    print(f\"SHAPE: {shape_tuple}\", end=\"\\n\\n\")\n",
    "\n",
    "    describe_df = dataframe.describe()\n",
    "    print(f\"DESCRIPTION\\n{describe_df}\", end=\"\\n\\n\")\n",
    "\n",
    "    print(f\"INFORMATION\")\n",
    "    dataframe.info()"
   ]
  },
  {
   "cell_type": "code",
   "execution_count": null,
   "metadata": {
    "scrolled": false
   },
   "outputs": [],
   "source": [
    "peekatdata(df)"
   ]
  },
  {
   "cell_type": "markdown",
   "metadata": {},
   "source": [
    "## Data Prep"
   ]
  },
  {
   "cell_type": "markdown",
   "metadata": {},
   "source": [
    "1. We're computing and returning the values by frequency for each variable."
   ]
  },
  {
   "cell_type": "code",
   "execution_count": null,
   "metadata": {},
   "outputs": [],
   "source": [
    "def df_value_counts(dataframe):\n",
    "    for col in df.columns:\n",
    "        n = df[col].unique().shape[0]\n",
    "        col_bins = min(n, 10)\n",
    "        print(f\"{col}:\")\n",
    "        if df[col].dtype in ['int64', 'float64'] and n > 10:\n",
    "            print(df[col].value_counts(bins=col_bins, sort=False))\n",
    "        else:\n",
    "            print(df[col].value_counts())\n",
    "        print(\"\\n\")"
   ]
  },
  {
   "cell_type": "code",
   "execution_count": null,
   "metadata": {
    "scrolled": false
   },
   "outputs": [],
   "source": [
    "df_value_counts(df)"
   ]
  },
  {
   "cell_type": "markdown",
   "metadata": {},
   "source": [
    "### Observations from Value Counts\n",
    "- customer_id has no duplicates\n",
    "- gender is about even\n",
    "- customers are mostly not seniors\n",
    "- about equally split along single/partner\n",
    "- most customers do not have dependents\n",
    "- there are many new and many old customers\n",
    "- overwhelming majority have phone service\n",
    "- closely split along multiple_lines\n",
    "- overwhelming majority have internet service\n",
    "    - more have fiber than DSL\n",
    "    - most do not have online_security\n",
    "    - most do not have online_backup\n",
    "    - most do not have device_protection\n",
    "    - most do not have tech_support\n",
    "- billing\n",
    "    - about evenly split along streaming_tv\n",
    "    - about evenly splot along streaming_movies\n",
    "    - most customers are month-to-month\n",
    "    - most customers are paperless billing\n",
    "    - most customers pay by some form of check\n",
    "    - many customers pay less than $30\n",
    "    - most are pay between \\\\$45 and \\\\$110 per month\n",
    "- most have not churned\n",
    "    - about 1900 have\n",
    "    "
   ]
  },
  {
   "cell_type": "markdown",
   "metadata": {},
   "source": [
    "### Handle Missing Values"
   ]
  },
  {
   "cell_type": "code",
   "execution_count": null,
   "metadata": {},
   "outputs": [],
   "source": [
    "def df_missing_vals(dataframe):\n",
    "    null_count = dataframe.isnull().sum()\n",
    "    null_percentage = (null_count / dataframe.shape[0]) * 100\n",
    "    empty_count = pd.Series(((dataframe == \" \") | (dataframe == \"\")).sum())\n",
    "    return pd.DataFrame({\"nmissing\": null_count, \"percentage\": null_percentage, \"nempty\": empty_count})"
   ]
  },
  {
   "cell_type": "code",
   "execution_count": null,
   "metadata": {},
   "outputs": [],
   "source": [
    "print(df_missing_vals(df))"
   ]
  },
  {
   "cell_type": "markdown",
   "metadata": {},
   "source": [
    "#### Takeaway\n",
    "- No columns have NaNs.\n",
    "- 11 observations have \" \" value for total_charges\n",
    "    - Replace with monthly_charges * tenure\n",
    "    - Those 11 values all had a tenure of 0 so they were essentially replaced with zeroes."
   ]
  },
  {
   "cell_type": "code",
   "execution_count": null,
   "metadata": {},
   "outputs": [],
   "source": [
    "df['total_charges'] = np.where(df['total_charges'] == ' ', (df.monthly_charges * df.tenure), df['total_charges'])"
   ]
  },
  {
   "cell_type": "markdown",
   "metadata": {},
   "source": [
    "3. We're transforming churn such that \"yes\" = 1 and \"no\" = 0"
   ]
  },
  {
   "cell_type": "code",
   "execution_count": null,
   "metadata": {},
   "outputs": [],
   "source": [
    "df['churn'] = df['churn'].map( {'No': 0, 'Yes': 1} ).astype(int)"
   ]
  },
  {
   "cell_type": "markdown",
   "metadata": {},
   "source": [
    "4. We created a new column, tenure_year, that is a result of translating tenure from months to years."
   ]
  },
  {
   "cell_type": "code",
   "execution_count": null,
   "metadata": {},
   "outputs": [],
   "source": [
    "df['tenure_year'] = df.tenure / 12"
   ]
  },
  {
   "cell_type": "markdown",
   "metadata": {},
   "source": [
    "5. We created a new column, phone_id, that combines phone_service and multiple_lines."
   ]
  },
  {
   "cell_type": "code",
   "execution_count": null,
   "metadata": {},
   "outputs": [],
   "source": [
    "def add_phone_id(df):\n",
    "    '''\n",
    "    return DataFrame with a new colum phone_id that combines phone_service and multiple_lines as follows:\n",
    "    \n",
    "    # 0 = no phone service\n",
    "    # 1 = One line\n",
    "    # 2 = Two+ lines\n",
    "    \n",
    "    '''\n",
    "    df_temp = df.copy()\n",
    "    df_temp.loc[(df_temp.phone_service == 'No'), 'phone_id'] = 0\n",
    "    df_temp.loc[(df_temp.phone_service == 'Yes') & (df_temp.multiple_lines == 'No'), 'phone_id'] = 1\n",
    "    df_temp.loc[(df_temp.phone_service == 'Yes') & (df_temp.multiple_lines == 'Yes'), 'phone_id'] = 2\n",
    "    df_temp = df_temp.astype({'phone_id': int})\n",
    "    return df_temp\n",
    "\n",
    "df_sql = add_phone_id(df)"
   ]
  },
  {
   "cell_type": "markdown",
   "metadata": {},
   "source": [
    "6. We add new column household_type_id that combines partner and dependents."
   ]
  },
  {
   "cell_type": "code",
   "execution_count": null,
   "metadata": {},
   "outputs": [],
   "source": [
    "def add_household_type_id(df):\n",
    "    '''\n",
    "    return DataFrame with a new colum household_type_id that combines partner and dependents as follows:\n",
    "    \n",
    "    # 0 = no partner, no dependents\n",
    "    # 1 = has partner, no dependents\n",
    "    # 2 = no partner, has dependents\n",
    "    # 3 = has partner, has dependents\n",
    "    \n",
    "    '''\n",
    "    df_temp = df.copy()\n",
    "    df_temp.loc[(df_temp.partner == 'No')& (df_temp.dependents == 'No'), 'household_type_id'] = 0\n",
    "    df_temp.loc[(df_temp.partner == 'Yes') & (df_temp.dependents == 'No'), 'household_type_id'] = 1\n",
    "    df_temp.loc[(df_temp.partner == 'No') & (df_temp.dependents == 'Yes'), 'household_type_id'] = 2\n",
    "    df_temp.loc[(df_temp.partner == 'Yes') & (df_temp.dependents == 'Yes'), 'household_type_id'] = 3\n",
    "    df_temp = df_temp.astype({'household_type_id': int})\n",
    "    return df_temp\n",
    "\n",
    "df_sql = add_household_type_id(df_sql)"
   ]
  },
  {
   "cell_type": "markdown",
   "metadata": {},
   "source": [
    "7. We created a new column streaming_services that combines both streaming services for tv and movies."
   ]
  },
  {
   "cell_type": "code",
   "execution_count": null,
   "metadata": {},
   "outputs": [],
   "source": [
    "def add_streaming_services(df):\n",
    "    \"\"\"\n",
    "    return DataFrame with a new column streaming_services that combines streaming_tv and streaming_movies columns as follows:\n",
    "    # 0 = no internet service\n",
    "    # 1 = no streaming_tv, no streaming_movies\n",
    "    # 2 = has streaming_tv, no streaming_movies\n",
    "    # 3 = no streaming_tv, has streaming_movies\n",
    "    # 4 = has streaming_tv, has streaming_movies\n",
    "    \"\"\"\n",
    "    df_temp = df.copy()\n",
    "    df_temp.loc[(df_temp.streaming_tv == \"No internet service\") & (df_temp.streaming_movies == 'No internet service'), \"streaming_services\"] = int(0)\n",
    "    df_temp.loc[(df_temp.streaming_tv == \"No\") & (df_temp.streaming_movies == 'No'), \"streaming_services\"] = int(1)\n",
    "    df_temp.loc[(df_temp.streaming_tv == \"Yes\") & (df_temp.streaming_movies == 'No'), \"streaming_services\"] = int(2)\n",
    "    df_temp.loc[(df_temp.streaming_tv == \"No\") & (df_temp.streaming_movies == 'Yes'), \"streaming_services\"] = int(3)\n",
    "    df_temp.loc[(df_temp.streaming_tv == \"Yes\") & (df_temp.streaming_movies == 'Yes'), \"streaming_services\"] = int(4)\n",
    "    df_temp = df_temp.astype({\"streaming_services\": int})\n",
    "    \n",
    "    return df_temp\n",
    "\n",
    "df_sql = add_streaming_services(df_sql)"
   ]
  },
  {
   "cell_type": "markdown",
   "metadata": {},
   "source": [
    "8. We created a new column online_security_backup that combines both online security and backup."
   ]
  },
  {
   "cell_type": "code",
   "execution_count": null,
   "metadata": {},
   "outputs": [],
   "source": [
    "def add_online_security_backup(df):\n",
    "    \"\"\"\n",
    "    return DataFrame with a new column streaming_services that combines online_security and online_backup columns as follows:\n",
    "    # 0 = no internet service\n",
    "    # 1 = no online_security, no online_backup\n",
    "    # 2 = has online_security, no online_backup\n",
    "    # 3 = no online_security, has online_backup\n",
    "    # 4 = has online_security, has online_backup\n",
    "    \"\"\"\n",
    "    df_temp = df.copy()\n",
    "    df_temp.loc[(df_temp.online_security == \"No internet service\") & (df_temp.online_backup == \"No internet service\"), \"online_security_backup\"] = 0\n",
    "    df_temp.loc[(df_temp.online_security == \"No\") & (df_temp.online_backup == \"No\"), \"online_security_backup\"] = 1\n",
    "    df_temp.loc[(df_temp.online_security == \"Yes\") & (df_temp.online_backup == \"No\"), \"online_security_backup\"] = 2\n",
    "    df_temp.loc[(df_temp.online_security == \"No\") & (df_temp.online_backup == \"Yes\"), \"online_security_backup\"] = 3\n",
    "    df_temp.loc[(df_temp.online_security == \"Yes\") & (df_temp.online_backup == \"Yes\"), \"online_security_backup\"] = 4\n",
    "    df_temp = df_temp.astype({\"online_security_backup\": int})\n",
    "    \n",
    "    return df_temp\n",
    "\n",
    "df_sql = add_online_security_backup(df_sql)"
   ]
  },
  {
   "cell_type": "markdown",
   "metadata": {},
   "source": [
    "Change value for \"None\" internet_service_type_id from 3 to 0. It is more intuitive and makes correlation tests easier to run."
   ]
  },
  {
   "cell_type": "code",
   "execution_count": null,
   "metadata": {},
   "outputs": [],
   "source": [
    "def fix_internet_service_type_id(df):\n",
    "    \"\"\"\n",
    "    0 = no internet\n",
    "    1 = DSL\n",
    "    2 = fiber\n",
    "    \"\"\"\n",
    "    df_temp = df.replace({\"internet_service_type_id\": 3}, 0)\n",
    "    return df_temp\n",
    "\n",
    "df_sql = fix_internet_service_type_id(df_sql)"
   ]
  },
  {
   "cell_type": "markdown",
   "metadata": {},
   "source": [
    "9. Data Split\n",
    "    - We Split data into train (70%) & test (30%) samples."
   ]
  },
  {
   "cell_type": "code",
   "execution_count": null,
   "metadata": {},
   "outputs": [],
   "source": [
    "xcols = ['customer_id', 'gender', 'senior_citizen', 'internet_service_type_id', 'device_protection', 'tech_support',\n",
    "         'contract_type_id', 'paperless_billing', 'payment_type_id', 'monthly_charges', 'total_charges',\n",
    "         'tenure_year', 'phone_id', 'household_type_id', 'streaming_services', 'online_security_backup']\n",
    "X = df_sql[xcols]\n",
    "y = df_sql[['churn']]\n",
    "\n",
    "X_train, X_test, y_train, y_test = train_test_split(X, y, test_size = .30, random_state = 123, stratify=y)"
   ]
  },
  {
   "cell_type": "markdown",
   "metadata": {},
   "source": [
    "10. Variable Encoding\n",
    "\n",
    "    - We encode for each non-numeric variable."
   ]
  },
  {
   "cell_type": "code",
   "execution_count": null,
   "metadata": {},
   "outputs": [],
   "source": [
    "to_encode = [\"gender\", \"device_protection\", \"tech_support\", \"paperless_billing\"]\n",
    "encoders = {}\n",
    "for col in to_encode:\n",
    "    encoder = LabelEncoder()\n",
    "    encoder.fit(X_train[col])\n",
    "    X_train[col] = encoder.transform(X_train[col])\n",
    "    X_test[col] = encoder.transform(X_test[col])\n",
    "    encoders[col] = encoder"
   ]
  },
  {
   "cell_type": "markdown",
   "metadata": {},
   "source": [
    "11. Numeric Scaling\n",
    "\n",
    "    - We standardize numerical variables.\n",
    "    - [ ] include tenure_year if time allows."
   ]
  },
  {
   "cell_type": "code",
   "execution_count": null,
   "metadata": {},
   "outputs": [],
   "source": [
    "scaler = MinMaxScaler()\n",
    "scaler.fit(X_train[[\"monthly_charges\", \"total_charges\"]])\n",
    "X_train[[\"monthly_charges\", \"total_charges\"]] = scaler.transform(X_train[[\"monthly_charges\", \"total_charges\"]])\n",
    "X_test[[\"monthly_charges\", \"total_charges\"]] = scaler.transform(X_test[[\"monthly_charges\", \"total_charges\"]])"
   ]
  },
  {
   "cell_type": "markdown",
   "metadata": {},
   "source": [
    "Make train_df and test_df"
   ]
  },
  {
   "cell_type": "code",
   "execution_count": null,
   "metadata": {},
   "outputs": [],
   "source": [
    "train_df = pd.concat([X_train, y_train], axis=1)\n",
    "test_df = pd.concat([X_test, y_test], axis=1)"
   ]
  },
  {
   "cell_type": "markdown",
   "metadata": {},
   "source": [
    "## Data Exploration\n",
    "\n",
    "### The target variable: 'churn'"
   ]
  },
  {
   "cell_type": "code",
   "execution_count": null,
   "metadata": {},
   "outputs": [],
   "source": [
    "train_df.churn.value_counts().sort_index().plot(kind = \"bar\",alpha = .5)\n",
    "plt.title(\"Distribution of Customers Who Churned\")\n",
    "plt.grid(b = True , which = \"major\")\n",
    "plt.show()"
   ]
  },
  {
   "cell_type": "code",
   "execution_count": null,
   "metadata": {},
   "outputs": [],
   "source": [
    "plt.figure(figsize=(15,10))\n",
    "df_de1 = y_train\n",
    "df_de1 = pd.concat([df_de1, pd.cut(X_train[\"tenure_year\"], 6)], axis=1)\n",
    "sns.barplot(x=df_de1.tenure_year, y=df_de1.churn, alpha=0.5)\n",
    "plt.title(\"Churn Rate by Tenure Cohort\")\n",
    "plt.show()"
   ]
  },
  {
   "cell_type": "code",
   "execution_count": null,
   "metadata": {},
   "outputs": [],
   "source": [
    "sns.distplot(train_df.tenure_year)"
   ]
  },
  {
   "cell_type": "markdown",
   "metadata": {},
   "source": [
    "**1. Could the month in which customers signed up influence churn?**\n",
    "\n",
    "- Churn is highest for customers with a tenure_year of less than or equal to 1, followed by those with a tenure_year greater than 1 but less than or equal to 2. There is a group of customers nearing tenure_year 6 with a fairly high churn rate."
   ]
  },
  {
   "cell_type": "markdown",
   "metadata": {},
   "source": [
    "**2. Are there features that indicate a higher propensity to churn?**\n",
    "\n",
    "_Services/traits/demographic that indicate a higher propensity for churning:_\n",
    "\n",
    "- Fiber optic customers have the highest churn rate, followed by DSL customers. Those with no internet have the lowest churn rate of the three groups\n",
    "- Churn rate is pretty equal among phone_id. I think this mean that the type of phone service is not driving or connected with churn.\n",
    "- Those without security or backup have the highest churn rate, followed by those with backup only.\n",
    "- Seniors have a higher churn rate than non-seniors\n",
    "- Those without device protection have a churn rate above the mean compared to those without\n",
    "- Those with a \"no\" for tech_support have a churn rate above the mean compared to those with a \"yes\"\n",
    "- Gender is not driving churn. No surprise here.\n",
    "- Month-to-month contracts have a churn rate above the mean, and they churn much more than other contract types.\n",
    "- Paperless billing have a churn rate above the mean\n",
    "- E-check have a churn rate above the mean\n",
    "- Those with no partner and no dependents have a churn rate above the mean; those with a partner and dependents have the lowest churn rate\n",
    "- Those with streaming services have an above average churn rate"
   ]
  },
  {
   "cell_type": "code",
   "execution_count": null,
   "metadata": {},
   "outputs": [],
   "source": [
    "barplot_features = ['internet_service_type_id', 'phone_id', 'online_security_backup', 'senior_citizen', 'device_protection', 'tech_support',\n",
    "           'gender', 'contract_type_id', 'paperless_billing', 'payment_type_id', 'household_type_id', 'streaming_services']\n",
    "churn_rate = y_train.churn.mean()\n",
    "plt.figure(figsize=(15, 30))\n",
    "for i, feature in enumerate(barplot_features):\n",
    "    plt.subplot(6, 2, i + 1)\n",
    "    ax = sns.barplot(X_train[feature], y_train.churn, alpha=.5)\n",
    "    ax.set_yticklabels(['{:,.0%}'.format(y) for y in ax.get_yticks()])\n",
    "    plt.ylabel('Churn Rate')\n",
    "    plt.axhline(churn_rate, ls='--', color='grey')\n",
    "plt.show()"
   ]
  },
  {
   "cell_type": "markdown",
   "metadata": {},
   "source": [
    "**3. Is there a price threshold for specific services where the likelihood of churn increases once price for those services goes past that point?**\n",
    "\n",
    "- Internet\n",
    "    - For no internet customers, there does not appear to be a price threshold that triggers churn\n",
    "    - For DSL customers, it appears that a standardized threshold between 0.2 and 0.4 triggers some churn\n",
    "    - For fiber customers, there does not appear to be a price threshold that triggers churn\n",
    "- Phone\n",
    "    - For no phone customers, customers paying a lower price have a more churn\n",
    "    - For one line customers, churn increases after 0.5 standardized monthly price\n",
    "    - For two+ line customers, churn increases after 0.6 standardized monthly price\n",
    "- Online security & backup\n",
    "    - There does not appear to be a price threshold that triggers churn for these customers\n",
    "- Streaming services\n",
    "    - Churn increases after 0.5 or 0.6 standardized price threshold for those with some kind of streaming service"
   ]
  },
  {
   "cell_type": "code",
   "execution_count": null,
   "metadata": {},
   "outputs": [],
   "source": [
    "vplot_features = ['internet_service_type_id', 'phone_id', 'online_security_backup', 'streaming_services']\n",
    "\n",
    "plt.figure(figsize=(15, 15))\n",
    "for i, feature in enumerate(vplot_features):\n",
    "    plt.subplot(2, 2, i + 1)\n",
    "    sns.violinplot(feature, 'monthly_charges', hue='churn',\n",
    "        data=train_df, split=True, palette=['blue','orange'])"
   ]
  },
  {
   "cell_type": "code",
   "execution_count": null,
   "metadata": {},
   "outputs": [],
   "source": [
    "features = ['paperless_billing', 'payment_type_id', 'household_type_id']\n",
    "feature_count = range(len(features))\n",
    "\n",
    "_, ax = plt.subplots(nrows=1, ncols=3, figsize=(16,6))\n",
    "\n",
    "for i, feature in enumerate(features):\n",
    "    sns.violinplot(feature, 'monthly_charges', hue='churn',\n",
    "        data=train_df, split=True, ax=ax[i], palette=['blue','orange'])"
   ]
  },
  {
   "cell_type": "markdown",
   "metadata": {},
   "source": [
    "**4. If we looked at churn rate for month-to-month customers after the 12th month and that of 1-year contract customers after the 12th month, are those rates comparable?**\n",
    "\n",
    "- Those customers on a month-to-month have a higher churn rate even when excluding newer customers"
   ]
  },
  {
   "cell_type": "code",
   "execution_count": null,
   "metadata": {},
   "outputs": [],
   "source": [
    "df_de4 = train_df[(train_df.tenure_year > 1) & ((train_df.contract_type_id == 1) | (train_df.contract_type_id == 2))][[\"contract_type_id\", \"churn\"]]\n",
    "sns.barplot(x=df_de4.contract_type_id, y=df_de4.churn, alpha=0.5)\n",
    "plt.title(\"Churn Rate for Month-to-Month and One-year Contract After First Year\")\n",
    "plt.show()"
   ]
  },
  {
   "cell_type": "markdown",
   "metadata": {},
   "source": [
    "**5. is the mean monthly_charges of those who have churned significantly different from that of those who have not churned?**"
   ]
  },
  {
   "cell_type": "code",
   "execution_count": null,
   "metadata": {},
   "outputs": [],
   "source": [
    "ax = sns.boxplot(x='churn', y='monthly_charges', data=train_df)"
   ]
  },
  {
   "cell_type": "code",
   "execution_count": null,
   "metadata": {},
   "outputs": [],
   "source": [
    "features = ['senior_citizen', 'internet_service_type_id', 'device_protection']\n",
    "\n",
    "_, ax = plt.subplots(nrows=1, ncols=3, figsize=(16,5))\n",
    "\n",
    "churn_rate = train_df.churn.mean()\n",
    "\n",
    "for i, feature in enumerate(features):\n",
    "    sns.barplot(feature, 'churn', data=train_df, ax=ax[i], alpha=.5)\n",
    "    ax[i].set_ylabel('Churn Rate')\n",
    "    ax[i].axhline(churn_rate, ls='--', color='grey')"
   ]
  },
  {
   "cell_type": "code",
   "execution_count": null,
   "metadata": {},
   "outputs": [],
   "source": [
    "features = ['tech_support', 'contract_type_id', 'paperless_billing']\n",
    "\n",
    "_, ax = plt.subplots(nrows=1, ncols=3, figsize=(16,5))\n",
    "\n",
    "churn_rate = train_df.churn.mean()\n",
    "\n",
    "for i, feature in enumerate(features):\n",
    "    sns.barplot(feature, 'churn', data=train_df, ax=ax[i], alpha=.5)\n",
    "    ax[i].set_ylabel('Churn Rate')\n",
    "    ax[i].axhline(churn_rate, ls='--', color='grey')"
   ]
  },
  {
   "cell_type": "code",
   "execution_count": null,
   "metadata": {},
   "outputs": [],
   "source": [
    "features = ['phone_id', 'household_type_id', 'streaming_services']\n",
    "\n",
    "_, ax = plt.subplots(nrows=1, ncols=3, figsize=(16,5))\n",
    "\n",
    "churn_rate = train_df.churn.mean()\n",
    "\n",
    "for i, feature in enumerate(features):\n",
    "    sns.barplot(feature, 'churn', data=train_df, ax=ax[i], alpha=.5)\n",
    "    ax[i].set_ylabel('Churn Rate')\n",
    "    ax[i].axhline(churn_rate, ls='--', color='grey')"
   ]
  },
  {
   "cell_type": "code",
   "execution_count": null,
   "metadata": {},
   "outputs": [],
   "source": [
    "features = ['online_security_backup']\n",
    "\n",
    "_, ax = plt.subplots(nrows=1, ncols=3, figsize=(16,5))\n",
    "\n",
    "churn_rate = train_df.churn.mean()\n",
    "\n",
    "for i, feature in enumerate(features):\n",
    "    sns.barplot(feature, 'churn', data=train_df, ax=ax[i], alpha=.5)\n",
    "    ax[i].set_ylabel('Churn Rate')\n",
    "    ax[i].axhline(churn_rate, ls='--', color='grey')"
   ]
  },
  {
   "cell_type": "markdown",
   "metadata": {},
   "source": [
    "**6. How much of monthly_charges can be explained by internet_service_type?**"
   ]
  },
  {
   "cell_type": "code",
   "execution_count": null,
   "metadata": {},
   "outputs": [],
   "source": [
    "pd.crosstab(train_df.internet_service_type_id, train_df.churn, margins=True).style.background_gradient(cmap='YlOrRd')"
   ]
  },
  {
   "cell_type": "markdown",
   "metadata": {},
   "source": [
    "**7. How much of monthly_charges can be explained by internet_service_type + phone service type (0, 1, or multiple lines).**"
   ]
  },
  {
   "cell_type": "code",
   "execution_count": null,
   "metadata": {},
   "outputs": [],
   "source": []
  },
  {
   "cell_type": "markdown",
   "metadata": {},
   "source": [
    "**8. Create visualizations exploring the interactions of variables** (independent with independent and independent with dependent). The goal is to **identify features that are related to churn**"
   ]
  },
  {
   "cell_type": "code",
   "execution_count": null,
   "metadata": {},
   "outputs": [],
   "source": [
    "plt.figure(figsize=(12,8))\n",
    "sns.heatmap(train_df.corr(), cmap='Blues', annot=True)"
   ]
  },
  {
   "cell_type": "code",
   "execution_count": null,
   "metadata": {},
   "outputs": [],
   "source": []
  },
  {
   "cell_type": "markdown",
   "metadata": {},
   "source": [
    "## Modeling\n",
    "\n",
    "1. Feature Selection: Are there any variables that seem to provide limited to no additional information? If so, remove those and assign the new limited dataframe to train_reduced"
   ]
  },
  {
   "cell_type": "markdown",
   "metadata": {},
   "source": [
    "2. Train (fit, transform, evaluate) a logistic regression model varying your meta-parameters."
   ]
  },
  {
   "cell_type": "markdown",
   "metadata": {},
   "source": [
    "3. Compare evaluation metrics across all the models, and select the best performing model."
   ]
  },
  {
   "cell_type": "markdown",
   "metadata": {},
   "source": [
    "4. Test the final model (transform, evaluate) on your out-of-sample data (test_df). Summarize the performance. Interpret your results."
   ]
  },
  {
   "cell_type": "markdown",
   "metadata": {},
   "source": [
    "# Delivery\n",
    "\n",
    "1. I will need you to deliver to me a csv with the customer_id, probability of churn, and the prediction of churn (1=churn, 0=not_churn). I would also like a single google slide that illustrates how your model works, including the features being used, so that I can deliver this to the SLT when they come with questions about how these values were derived. Please make sure you include how likely your model is to give a high probability of churn when churn doesn't occur, to give a low probability of churn when churn occurs, and to accurately predict churn.\n",
    "\n",
    "1. Finally, our development team will need a .py file that will take in a new dataset, (in the exact same form of the one you acquired from telco_churn.customers) and perform all the transformations necessary to run the model you have developed on this new dataset to provide probabilities and predictions."
   ]
  },
  {
   "cell_type": "code",
   "execution_count": null,
   "metadata": {},
   "outputs": [],
   "source": []
  }
 ],
 "metadata": {
  "kernelspec": {
   "display_name": "Python 3",
   "language": "python",
   "name": "python3"
  },
  "language_info": {
   "codemirror_mode": {
    "name": "ipython",
    "version": 3
   },
   "file_extension": ".py",
   "mimetype": "text/x-python",
   "name": "python",
   "nbconvert_exporter": "python",
   "pygments_lexer": "ipython3",
   "version": "3.7.1"
  }
 },
 "nbformat": 4,
 "nbformat_minor": 2
}
